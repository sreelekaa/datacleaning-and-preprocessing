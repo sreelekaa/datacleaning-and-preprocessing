{
  "nbformat": 4,
  "nbformat_minor": 0,
  "metadata": {
    "colab": {
      "provenance": [],
      "authorship_tag": "ABX9TyPl8OkyZTgRutrgctirwlLn",
      "include_colab_link": true
    },
    "kernelspec": {
      "name": "python3",
      "display_name": "Python 3"
    },
    "language_info": {
      "name": "python"
    }
  },
  "cells": [
    {
      "cell_type": "markdown",
      "metadata": {
        "id": "view-in-github",
        "colab_type": "text"
      },
      "source": [
        "<a href=\"https://colab.research.google.com/github/sreelekaa/datacleaning-and-preprocessing/blob/main/datacleaning.ipynb\" target=\"_parent\"><img src=\"https://colab.research.google.com/assets/colab-badge.svg\" alt=\"Open In Colab\"/></a>"
      ]
    },
    {
      "cell_type": "markdown",
      "source": [
        "**Data Cleaning and Pre-processing**\n",
        "\n",
        "\n"
      ],
      "metadata": {
        "id": "RskHHnQrRSve"
      }
    },
    {
      "cell_type": "markdown",
      "source": [
        "Data cleaning (or data cleansing) is the process of identifying and correcting (or removing) inaccurate, incomplete, inconsistent, or irrelevant data from a dataset to improve its quality and reliability for analysis or machine learning tasks.\n",
        "\n"
      ],
      "metadata": {
        "id": "SSR8E38tRh1o"
      }
    },
    {
      "cell_type": "code",
      "source": [
        "import pandas as pd\n",
        "import numpy as np\n",
        "import seaborn as sns\n",
        "import matplotlib.pyplot as plt"
      ],
      "metadata": {
        "id": "B-zG18MFa-Fa"
      },
      "execution_count": 7,
      "outputs": []
    },
    {
      "cell_type": "markdown",
      "source": [
        "These are Python libraries, and each has a special role in data analysis, data science, and machine learning.\n",
        "\n",
        "\n",
        "\n"
      ],
      "metadata": {
        "id": "WVhVBGzpo1nt"
      }
    },
    {
      "cell_type": "code",
      "source": [
        "df=pd.read_csv(\"Retail_Transaction_Dataset.csv\")"
      ],
      "metadata": {
        "id": "pRAXBVCvqSqm"
      },
      "execution_count": 17,
      "outputs": []
    },
    {
      "cell_type": "code",
      "source": [
        "print(df.head())  # Display the first 5 rows of the dataset\n"
      ],
      "metadata": {
        "colab": {
          "base_uri": "https://localhost:8080/"
        },
        "id": "8i9DQSXiwRoa",
        "outputId": "121704db-3bd7-4751-85ce-2f8cd8a3db14"
      },
      "execution_count": 18,
      "outputs": [
        {
          "output_type": "stream",
          "name": "stdout",
          "text": [
            "   CustomerID ProductID  Quantity      Price   TransactionDate PaymentMethod  \\\n",
            "0      109318         C         7  80.079844  12/26/2023 12:32          Cash   \n",
            "1      993229         C         4  75.195229     8/5/2023 0:00          Cash   \n",
            "2      579675         A         8  31.528816   3/11/2024 18:51          Cash   \n",
            "3      799826         D         5  98.880218  10/27/2023 22:00        PayPal   \n",
            "4      121413         A         7  93.188512  12/22/2023 11:38          Cash   \n",
            "\n",
            "                                       StoreLocation ProductCategory  \\\n",
            "0            176 Andrew Cliffs\\nBaileyfort, HI 93354           Books   \n",
            "1  11635 William Well Suite 809\\nEast Kara, MT 19483      Home Decor   \n",
            "2  910 Mendez Ville Suite 909\\nPort Lauraland, MO...           Books   \n",
            "3  87522 Sharon Corners Suite 500\\nLake Tammy, MO...           Books   \n",
            "4   0070 Michelle Island Suite 143\\nHoland, VA 80142     Electronics   \n",
            "\n",
            "   DiscountApplied(%)  TotalAmount  \n",
            "0           18.677100   455.862764  \n",
            "1           14.121365   258.306546  \n",
            "2           15.943701   212.015651  \n",
            "3            6.686337   461.343769  \n",
            "4            4.030096   626.030484  \n"
          ]
        }
      ]
    },
    {
      "cell_type": "code",
      "source": [
        "print(df.shape)  # (rows, columns)\n"
      ],
      "metadata": {
        "colab": {
          "base_uri": "https://localhost:8080/"
        },
        "id": "d7_47EEAxLvH",
        "outputId": "91997aed-2137-4ed2-f71e-11d9d3842156"
      },
      "execution_count": 19,
      "outputs": [
        {
          "output_type": "stream",
          "name": "stdout",
          "text": [
            "(100000, 10)\n"
          ]
        }
      ]
    },
    {
      "cell_type": "code",
      "source": [
        "print(df.dtypes)  # Data types of each column\n"
      ],
      "metadata": {
        "colab": {
          "base_uri": "https://localhost:8080/"
        },
        "id": "0kEGcZS4xRy_",
        "outputId": "d15943b0-3843-460b-cb89-5817ec9e1285"
      },
      "execution_count": 20,
      "outputs": [
        {
          "output_type": "stream",
          "name": "stdout",
          "text": [
            "CustomerID              int64\n",
            "ProductID              object\n",
            "Quantity                int64\n",
            "Price                 float64\n",
            "TransactionDate        object\n",
            "PaymentMethod          object\n",
            "StoreLocation          object\n",
            "ProductCategory        object\n",
            "DiscountApplied(%)    float64\n",
            "TotalAmount           float64\n",
            "dtype: object\n"
          ]
        }
      ]
    },
    {
      "cell_type": "code",
      "source": [
        "print(df.describe())  # Basic statistics for numerical columns\n"
      ],
      "metadata": {
        "colab": {
          "base_uri": "https://localhost:8080/"
        },
        "id": "7Ys09I-XxVe1",
        "outputId": "3beccdc4-929e-45a9-88d3-262b790c7c61"
      },
      "execution_count": 21,
      "outputs": [
        {
          "output_type": "stream",
          "name": "stdout",
          "text": [
            "          CustomerID       Quantity          Price  DiscountApplied(%)  \\\n",
            "count  100000.000000  100000.000000  100000.000000       100000.000000   \n",
            "mean   500463.982180       5.009290      55.067344           10.020155   \n",
            "std    288460.917524       2.579808      25.971567            5.779534   \n",
            "min        14.000000       1.000000      10.000430            0.000046   \n",
            "25%    250693.750000       3.000000      32.549474            5.001013   \n",
            "50%    499679.000000       5.000000      55.116789           10.030353   \n",
            "75%    751104.750000       7.000000      77.456763           15.018367   \n",
            "max    999997.000000       9.000000      99.999284           19.999585   \n",
            "\n",
            "         TotalAmount  \n",
            "count  100000.000000  \n",
            "mean      248.334955  \n",
            "std       184.554792  \n",
            "min         8.274825  \n",
            "25%        95.163418  \n",
            "50%       200.368393  \n",
            "75%       362.009980  \n",
            "max       896.141242  \n"
          ]
        }
      ]
    },
    {
      "cell_type": "code",
      "source": [
        "print(df.duplicated().sum())  # Count the number of duplicate rows\n"
      ],
      "metadata": {
        "colab": {
          "base_uri": "https://localhost:8080/"
        },
        "id": "9LOpzIZlxY-k",
        "outputId": "499288fb-0efe-48b2-a2fa-662b7d1a9054"
      },
      "execution_count": 22,
      "outputs": [
        {
          "output_type": "stream",
          "name": "stdout",
          "text": [
            "0\n"
          ]
        }
      ]
    },
    {
      "cell_type": "code",
      "source": [
        "print(df.isnull().sum())  # Shows number of missing values per column"
      ],
      "metadata": {
        "colab": {
          "base_uri": "https://localhost:8080/"
        },
        "id": "KE_V_79Ixb7o",
        "outputId": "a8625a6a-9230-47b7-c5f4-9dd55138dd15"
      },
      "execution_count": 23,
      "outputs": [
        {
          "output_type": "stream",
          "name": "stdout",
          "text": [
            "CustomerID            0\n",
            "ProductID             0\n",
            "Quantity              0\n",
            "Price                 0\n",
            "TransactionDate       0\n",
            "PaymentMethod         0\n",
            "StoreLocation         0\n",
            "ProductCategory       0\n",
            "DiscountApplied(%)    0\n",
            "TotalAmount           0\n",
            "dtype: int64\n"
          ]
        }
      ]
    },
    {
      "cell_type": "code",
      "source": [
        "df = df.dropna()  # Removes rows with missing values\n",
        "\n"
      ],
      "metadata": {
        "id": "27vHs0MYxktO"
      },
      "execution_count": 24,
      "outputs": []
    },
    {
      "cell_type": "code",
      "source": [
        "print(df.isnull())"
      ],
      "metadata": {
        "colab": {
          "base_uri": "https://localhost:8080/"
        },
        "id": "LvR3rPg9xuh4",
        "outputId": "392cd679-a56f-4203-ad83-462da55fcbed"
      },
      "execution_count": 26,
      "outputs": [
        {
          "output_type": "stream",
          "name": "stdout",
          "text": [
            "       CustomerID  ProductID  Quantity  Price  TransactionDate  PaymentMethod  \\\n",
            "0           False      False     False  False            False          False   \n",
            "1           False      False     False  False            False          False   \n",
            "2           False      False     False  False            False          False   \n",
            "3           False      False     False  False            False          False   \n",
            "4           False      False     False  False            False          False   \n",
            "...           ...        ...       ...    ...              ...            ...   \n",
            "99995       False      False     False  False            False          False   \n",
            "99996       False      False     False  False            False          False   \n",
            "99997       False      False     False  False            False          False   \n",
            "99998       False      False     False  False            False          False   \n",
            "99999       False      False     False  False            False          False   \n",
            "\n",
            "       StoreLocation  ProductCategory  DiscountApplied(%)  TotalAmount  \n",
            "0              False            False               False        False  \n",
            "1              False            False               False        False  \n",
            "2              False            False               False        False  \n",
            "3              False            False               False        False  \n",
            "4              False            False               False        False  \n",
            "...              ...              ...                 ...          ...  \n",
            "99995          False            False               False        False  \n",
            "99996          False            False               False        False  \n",
            "99997          False            False               False        False  \n",
            "99998          False            False               False        False  \n",
            "99999          False            False               False        False  \n",
            "\n",
            "[100000 rows x 10 columns]\n"
          ]
        }
      ]
    },
    {
      "cell_type": "code",
      "source": [
        "df_encoded = pd.get_dummies(df, columns=['PaymentMethod', 'ProductCategory'])\n"
      ],
      "metadata": {
        "id": "h3E7BztPyxWG"
      },
      "execution_count": 33,
      "outputs": []
    },
    {
      "cell_type": "code",
      "source": [
        "print(df_encoded)\n"
      ],
      "metadata": {
        "colab": {
          "base_uri": "https://localhost:8080/"
        },
        "id": "OrC0TrTZzYDL",
        "outputId": "0971ca4c-2144-4d49-f07e-d96e4d55cf94"
      },
      "execution_count": 34,
      "outputs": [
        {
          "output_type": "stream",
          "name": "stdout",
          "text": [
            "       CustomerID ProductID  Quantity      Price   TransactionDate  \\\n",
            "0          109318         C         7  80.079844  12/26/2023 12:32   \n",
            "1          993229         C         4  75.195229     8/5/2023 0:00   \n",
            "2          579675         A         8  31.528816   3/11/2024 18:51   \n",
            "3          799826         D         5  98.880218  10/27/2023 22:00   \n",
            "4          121413         A         7  93.188512  12/22/2023 11:38   \n",
            "...           ...       ...       ...        ...               ...   \n",
            "99995      726461         A         2  56.078258   7/17/2023 16:59   \n",
            "99996      328056         A         6  88.516406    5/30/2023 9:04   \n",
            "99997      887304         B         4  72.385564    8/25/2023 7:59   \n",
            "99998      326401         C         5  66.542239    2/5/2024 19:45   \n",
            "99999      771566         C         5  38.087766    2/4/2024 11:53   \n",
            "\n",
            "       StoreLocation  DiscountApplied(%)  TotalAmount  PaymentMethod_0  \\\n",
            "0              15470           18.677100   455.862764             True   \n",
            "1              10325           14.121365   258.306546             True   \n",
            "2              81234           15.943701   212.015651             True   \n",
            "3              78091            6.686337   461.343769            False   \n",
            "4                656            4.030096   626.030484             True   \n",
            "...              ...                 ...          ...              ...   \n",
            "99995          32168           18.345145    91.581240            False   \n",
            "99996          73187            3.995541   509.878179            False   \n",
            "99997          45053           17.423979   239.092472            False   \n",
            "99998          16531           14.345018   284.983717            False   \n",
            "99999          71716            2.966058   184.790305            False   \n",
            "\n",
            "       PaymentMethod_1  PaymentMethod_2  PaymentMethod_3  ProductCategory_0  \\\n",
            "0                False            False            False               True   \n",
            "1                False            False            False              False   \n",
            "2                False            False            False               True   \n",
            "3                False            False             True               True   \n",
            "4                False            False            False              False   \n",
            "...                ...              ...              ...                ...   \n",
            "99995             True            False            False              False   \n",
            "99996             True            False            False              False   \n",
            "99997             True            False            False              False   \n",
            "99998            False            False             True              False   \n",
            "99999            False             True            False              False   \n",
            "\n",
            "       ProductCategory_1  ProductCategory_2  ProductCategory_3  \n",
            "0                  False              False              False  \n",
            "1                  False              False               True  \n",
            "2                  False              False              False  \n",
            "3                  False              False              False  \n",
            "4                  False               True              False  \n",
            "...                  ...                ...                ...  \n",
            "99995               True              False              False  \n",
            "99996              False               True              False  \n",
            "99997               True              False              False  \n",
            "99998              False               True              False  \n",
            "99999              False              False               True  \n",
            "\n",
            "[100000 rows x 16 columns]\n"
          ]
        }
      ]
    },
    {
      "cell_type": "code",
      "source": [
        "from sklearn.preprocessing import StandardScaler\n"
      ],
      "metadata": {
        "id": "iLW0i12VzZ0G"
      },
      "execution_count": 35,
      "outputs": []
    },
    {
      "cell_type": "code",
      "source": [
        "scaler = StandardScaler()\n",
        "df[['Quantity', 'Price', 'DiscountApplied(%)', 'TotalAmount']] = scaler.fit_transform(df[['Quantity', 'Price', 'DiscountApplied(%)', 'TotalAmount']])"
      ],
      "metadata": {
        "id": "rBi3sSj_0FnS"
      },
      "execution_count": 37,
      "outputs": []
    },
    {
      "cell_type": "code",
      "source": [
        "# Step 1: Visualize outliers using boxplots\n",
        "plt.figure(figsize=(10, 6))\n",
        "sns.boxplot(data=df[['Quantity', 'Price', 'TotalAmount']])\n",
        "plt.title('Boxplot for Quantity, Price, and TotalAmount')\n",
        "plt.show()\n"
      ],
      "metadata": {
        "colab": {
          "base_uri": "https://localhost:8080/",
          "height": 545
        },
        "id": "hJViV_MC0INk",
        "outputId": "23a1d311-9079-43e3-d9c7-11efc4e47f7f"
      },
      "execution_count": 38,
      "outputs": [
        {
          "output_type": "display_data",
          "data": {
            "text/plain": [
              "<Figure size 1000x600 with 1 Axes>"
            ],
            "image/png": "[encoded data removed]"
          },
          "metadata": {}
        }
      ]
    },
    {
      "cell_type": "code",
      "source": [
        "# Step 2: Remove outliers using IQR method\n",
        "# Calculate IQR for each feature\n",
        "Q1 = df[['Quantity', 'Price', 'TotalAmount']].quantile(0.25)\n",
        "Q3 = df[['Quantity', 'Price', 'TotalAmount']].quantile(0.75)\n",
        "IQR = Q3 - Q1"
      ],
      "metadata": {
        "id": "q43ACTym0dhP"
      },
      "execution_count": 39,
      "outputs": []
    },
    {
      "cell_type": "code",
      "source": [
        "# Define upper and lower bounds to filter out outliers\n",
        "lower_bound = Q1 - 1.5 * IQR\n",
        "upper_bound = Q3 + 1.5 * IQR\n",
        "\n",
        "# Remove rows with outliers\n",
        "df_no_outliers = df[~((df[['Quantity', 'Price', 'TotalAmount']] < lower_bound) | (df[['Quantity', 'Price', 'TotalAmount']] > upper_bound)).any(axis=1)]\n",
        "\n",
        "# Step 3: Visualize again after removing outliers\n",
        "plt.figure(figsize=(10, 6))\n",
        "sns.boxplot(data=df_no_outliers[['Quantity', 'Price', 'TotalAmount']])\n",
        "plt.title('Boxplot for Quantity, Price, and TotalAmount (No Outliers)')\n",
        "plt.show()"
      ],
      "metadata": {
        "colab": {
          "base_uri": "https://localhost:8080/",
          "height": 545
        },
        "id": "wfWv4xvB0hFF",
        "outputId": "b1dd9420-6d8c-4e5d-e673-10741a832707"
      },
      "execution_count": 40,
      "outputs": [
        {
          "output_type": "display_data",
          "data": {
            "text/plain": [
              "<Figure size 1000x600 with 1 Axes>"
            ],
            "image/png": "[encoded data removed]"
          },
          "metadata": {}
        }
      ]
    },
    {
      "cell_type": "code",
      "source": [
        "print(df_no_outliers)"
      ],
      "metadata": {
        "colab": {
          "base_uri": "https://localhost:8080/"
        },
        "id": "il-y3-zq0jlB",
        "outputId": "f4dffae8-97a3-4bca-bc05-0fb206285792"
      },
      "execution_count": 41,
      "outputs": [
        {
          "output_type": "stream",
          "name": "stdout",
          "text": [
            "       CustomerID ProductID  Quantity     Price   TransactionDate  \\\n",
            "0          109318         C  0.771654  0.963077  12/26/2023 12:32   \n",
            "1          993229         C -0.391229  0.775001     8/5/2023 0:00   \n",
            "2          579675         A  1.159282 -0.906324   3/11/2024 18:51   \n",
            "3          799826         D -0.003601  1.686964  10/27/2023 22:00   \n",
            "4          121413         A  0.771654  1.467811  12/22/2023 11:38   \n",
            "...           ...       ...       ...       ...               ...   \n",
            "99995      726461         A -1.166484  0.038924   7/17/2023 16:59   \n",
            "99996      328056         A  0.384027  1.287917    5/30/2023 9:04   \n",
            "99997      887304         B -0.391229  0.666818    8/25/2023 7:59   \n",
            "99998      326401         C -0.003601  0.441827    2/5/2024 19:45   \n",
            "99999      771566         C -0.003601 -0.653779    2/4/2024 11:53   \n",
            "\n",
            "       PaymentMethod  StoreLocation  ProductCategory  DiscountApplied(%)  \\\n",
            "0                  0          15470                0            1.497870   \n",
            "1                  0          10325                3            0.709613   \n",
            "2                  0          81234                0            1.024923   \n",
            "3                  3          78091                0           -0.576835   \n",
            "4                  0            656                2           -1.036431   \n",
            "...              ...            ...              ...                 ...   \n",
            "99995              1          32168                1            1.440433   \n",
            "99996              1          73187                2           -1.042410   \n",
            "99997              1          45053                1            1.281048   \n",
            "99998              3          16531                2            0.748310   \n",
            "99999              2          71716                3           -1.220537   \n",
            "\n",
            "       TotalAmount  \n",
            "0         1.124484  \n",
            "1         0.054031  \n",
            "2        -0.196795  \n",
            "3         1.154182  \n",
            "4         2.046533  \n",
            "...            ...  \n",
            "99995    -0.849366  \n",
            "99996     1.417165  \n",
            "99997    -0.050080  \n",
            "99998     0.198580  \n",
            "99999    -0.344315  \n",
            "\n",
            "[99147 rows x 10 columns]\n"
          ]
        }
      ]
    },
    {
      "cell_type": "code",
      "source": [],
      "metadata": {
        "id": "jXQOzwBQ0mL6"
      },
      "execution_count": null,
      "outputs": []
    }
  ]
}